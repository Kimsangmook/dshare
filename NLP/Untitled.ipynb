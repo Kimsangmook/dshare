{
 "cells": [
  {
   "cell_type": "markdown",
   "id": "forbidden-kuwait",
   "metadata": {},
   "source": [
    "# Tokenizztion"
   ]
  },
  {
   "cell_type": "markdown",
   "id": "shared-latex",
   "metadata": {},
   "source": [
    "## 영어 : Word Tokenization"
   ]
  },
  {
   "cell_type": "markdown",
   "id": "least-specification",
   "metadata": {},
   "source": [
    "단어 단위로 토큰화를 수행하는 것을 Word Tokenization이라고 합니다."
   ]
  },
  {
   "cell_type": "markdown",
   "id": "young-belief",
   "metadata": {},
   "source": [
    "## NLTK의 토크나이저 비교 "
   ]
  },
  {
   "cell_type": "code",
   "execution_count": 3,
   "id": "premium-charter",
   "metadata": {},
   "outputs": [],
   "source": [
    "import nltk"
   ]
  },
  {
   "cell_type": "code",
   "execution_count": 4,
   "id": "inappropriate-depression",
   "metadata": {},
   "outputs": [
    {
     "name": "stderr",
     "output_type": "stream",
     "text": [
      "[nltk_data] Downloading package punkt to /home/sangmook/nltk_data...\n",
      "[nltk_data]   Unzipping tokenizers/punkt.zip.\n"
     ]
    },
    {
     "data": {
      "text/plain": [
       "True"
      ]
     },
     "execution_count": 4,
     "metadata": {},
     "output_type": "execute_result"
    }
   ],
   "source": [
    "nltk.download('punkt')"
   ]
  },
  {
   "cell_type": "code",
   "execution_count": null,
   "id": "controlled-breast",
   "metadata": {},
   "outputs": [],
   "source": [
    "sentence = \"\""
   ]
  }
 ],
 "metadata": {
  "kernelspec": {
   "display_name": "Python 3",
   "language": "python",
   "name": "python3"
  },
  "language_info": {
   "codemirror_mode": {
    "name": "ipython",
    "version": 3
   },
   "file_extension": ".py",
   "mimetype": "text/x-python",
   "name": "python",
   "nbconvert_exporter": "python",
   "pygments_lexer": "ipython3",
   "version": "3.8.8"
  }
 },
 "nbformat": 4,
 "nbformat_minor": 5
}
